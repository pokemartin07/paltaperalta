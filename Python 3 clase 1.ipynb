{
 "cells": [
  {
   "cell_type": "code",
   "execution_count": 2,
   "id": "ca345284",
   "metadata": {},
   "outputs": [
    {
     "name": "stdout",
     "output_type": "stream",
     "text": [
      "hola gente del youtube\n"
     ]
    }
   ],
   "source": [
    "print(\"hola gente del youtube\")"
   ]
  },
  {
   "cell_type": "code",
   "execution_count": 3,
   "id": "9f577ff9",
   "metadata": {},
   "outputs": [
    {
     "name": "stdout",
     "output_type": "stream",
     "text": [
      "2400003\n"
     ]
    }
   ],
   "source": [
    "print(\"2400003\")"
   ]
  },
  {
   "cell_type": "code",
   "execution_count": 24,
   "id": "e44e2f73",
   "metadata": {},
   "outputs": [],
   "source": [
    "x=2345678\n",
    "y=4444\n",
    "π=3.14159265359\n",
    "minuto=60\n",
    "segundo=1"
   ]
  },
  {
   "cell_type": "code",
   "execution_count": 5,
   "id": "315dabea",
   "metadata": {},
   "outputs": [
    {
     "data": {
      "text/plain": [
       "2350122"
      ]
     },
     "execution_count": 5,
     "metadata": {},
     "output_type": "execute_result"
    }
   ],
   "source": [
    "x+y"
   ]
  },
  {
   "cell_type": "code",
   "execution_count": 6,
   "id": "d388d243",
   "metadata": {},
   "outputs": [
    {
     "data": {
      "text/plain": [
       "-2341234"
      ]
     },
     "execution_count": 6,
     "metadata": {},
     "output_type": "execute_result"
    }
   ],
   "source": [
    "y-x"
   ]
  },
  {
   "cell_type": "code",
   "execution_count": 7,
   "id": "1658af47",
   "metadata": {},
   "outputs": [
    {
     "data": {
      "text/plain": [
       "10424193032"
      ]
     },
     "execution_count": 7,
     "metadata": {},
     "output_type": "execute_result"
    }
   ],
   "source": [
    "x*y"
   ]
  },
  {
   "cell_type": "code",
   "execution_count": 8,
   "id": "5d03ece0",
   "metadata": {},
   "outputs": [
    {
     "data": {
      "text/plain": [
       "527.8303330333033"
      ]
     },
     "execution_count": 8,
     "metadata": {},
     "output_type": "execute_result"
    }
   ],
   "source": [
    "x/y"
   ]
  },
  {
   "cell_type": "code",
   "execution_count": 9,
   "id": "d19141c4",
   "metadata": {},
   "outputs": [],
   "source": [
    "# type(\"hola mundo\")"
   ]
  },
  {
   "cell_type": "code",
   "execution_count": 10,
   "id": "9d964c0f",
   "metadata": {},
   "outputs": [
    {
     "data": {
      "text/plain": [
       "float"
      ]
     },
     "execution_count": 10,
     "metadata": {},
     "output_type": "execute_result"
    }
   ],
   "source": [
    "type(3.14159265359)"
   ]
  },
  {
   "cell_type": "code",
   "execution_count": 11,
   "id": "f146985b",
   "metadata": {},
   "outputs": [
    {
     "data": {
      "text/plain": [
       "complex"
      ]
     },
     "execution_count": 11,
     "metadata": {},
     "output_type": "execute_result"
    }
   ],
   "source": [
    "a=24+9j\n",
    "type(a)"
   ]
  },
  {
   "cell_type": "code",
   "execution_count": 12,
   "id": "225f11a9",
   "metadata": {},
   "outputs": [
    {
     "data": {
      "text/plain": [
       "str"
      ]
     },
     "execution_count": 12,
     "metadata": {},
     "output_type": "execute_result"
    }
   ],
   "source": [
    "type(\"54\")"
   ]
  },
  {
   "cell_type": "code",
   "execution_count": 17,
   "id": "9cf93a44",
   "metadata": {},
   "outputs": [
    {
     "data": {
      "text/plain": [
       "list"
      ]
     },
     "execution_count": 17,
     "metadata": {},
     "output_type": "execute_result"
    }
   ],
   "source": [
    "supermercado=[\"arroz\",\"lechuga\",\"tomate\"]\n",
    "type (supermercado)"
   ]
  },
  {
   "cell_type": "code",
   "execution_count": 22,
   "id": "d113d01b",
   "metadata": {},
   "outputs": [
    {
     "data": {
      "text/plain": [
       "tuple"
      ]
     },
     "execution_count": 22,
     "metadata": {},
     "output_type": "execute_result"
    }
   ],
   "source": [
    "productos=(\"iphone 14\", 1.400000)\n",
    "type(productos)"
   ]
  },
  {
   "cell_type": "code",
   "execution_count": 23,
   "id": "777076d5",
   "metadata": {},
   "outputs": [
    {
     "data": {
      "text/plain": [
       "dict"
      ]
     },
     "execution_count": 23,
     "metadata": {},
     "output_type": "execute_result"
    }
   ],
   "source": [
    "capital_nacionales={\"albania\":\"tirana\",}\n",
    "type(capital_nacionales)"
   ]
  },
  {
   "cell_type": "code",
   "execution_count": null,
   "id": "b5acb6a0",
   "metadata": {},
   "outputs": [],
   "source": [
    "minuto*24 "
   ]
  },
  {
   "cell_type": "code",
   "execution_count": 26,
   "id": "c9c8d6b3",
   "metadata": {},
   "outputs": [
    {
     "data": {
      "text/plain": [
       "1476"
      ]
     },
     "execution_count": 26,
     "metadata": {},
     "output_type": "execute_result"
    }
   ],
   "source": [
    "24*60+36"
   ]
  },
  {
   "cell_type": "code",
   "execution_count": 27,
   "id": "4c3583ec",
   "metadata": {},
   "outputs": [
    {
     "data": {
      "text/plain": [
       "4"
      ]
     },
     "execution_count": 27,
     "metadata": {},
     "output_type": "execute_result"
    }
   ],
   "source": [
    "49%5"
   ]
  },
  {
   "cell_type": "code",
   "execution_count": 28,
   "id": "e439445b",
   "metadata": {},
   "outputs": [
    {
     "data": {
      "text/plain": [
       "16384"
      ]
     },
     "execution_count": 28,
     "metadata": {},
     "output_type": "execute_result"
    }
   ],
   "source": [
    "2**14"
   ]
  },
  {
   "cell_type": "code",
   "execution_count": 29,
   "id": "19c04265",
   "metadata": {},
   "outputs": [
    {
     "name": "stdout",
     "output_type": "stream",
     "text": [
      "yo quiero aprender python:)\n"
     ]
    }
   ],
   "source": [
    "print(\"yo quiero aprender python:)\")"
   ]
  },
  {
   "cell_type": "code",
   "execution_count": 31,
   "id": "498e2fa4",
   "metadata": {},
   "outputs": [
    {
     "data": {
      "text/plain": [
       "5.625"
      ]
     },
     "execution_count": 31,
     "metadata": {},
     "output_type": "execute_result"
    }
   ],
   "source": [
    "450/80"
   ]
  },
  {
   "cell_type": "code",
   "execution_count": 33,
   "id": "4e21c254",
   "metadata": {},
   "outputs": [
    {
     "data": {
      "text/plain": [
       "337.5"
      ]
     },
     "execution_count": 33,
     "metadata": {},
     "output_type": "execute_result"
    }
   ],
   "source": [
    "5.625*60"
   ]
  },
  {
   "cell_type": "code",
   "execution_count": 36,
   "id": "b29b92da",
   "metadata": {
    "scrolled": true
   },
   "outputs": [
    {
     "data": {
      "text/plain": [
       "dict"
      ]
     },
     "execution_count": 36,
     "metadata": {},
     "output_type": "execute_result"
    }
   ],
   "source": [
    "type(\"albania\")\n",
    "type(capital_nacionales)"
   ]
  },
  {
   "cell_type": "code",
   "execution_count": 1,
   "id": "4c31619f",
   "metadata": {},
   "outputs": [
    {
     "name": "stdout",
     "output_type": "stream",
     "text": [
      "3.14\n"
     ]
    }
   ],
   "source": [
    "mynumber=3.14\n",
    "print(mynumber)"
   ]
  },
  {
   "cell_type": "code",
   "execution_count": 2,
   "id": "406842c3",
   "metadata": {},
   "outputs": [
    {
     "data": {
      "text/plain": [
       "36"
      ]
     },
     "execution_count": 2,
     "metadata": {},
     "output_type": "execute_result"
    }
   ],
   "source": [
    "elementos=36\n",
    "elementos"
   ]
  },
  {
   "cell_type": "code",
   "execution_count": 3,
   "id": "959817c1",
   "metadata": {},
   "outputs": [
    {
     "name": "stdout",
     "output_type": "stream",
     "text": [
      "['False', 'None', 'True', '__peg_parser__', 'and', 'as', 'assert', 'async', 'await', 'break', 'class', 'continue', 'def', 'del', 'elif', 'else', 'except', 'finally', 'for', 'from', 'global', 'if', 'import', 'in', 'is', 'lambda', 'nonlocal', 'not', 'or', 'pass', 'raise', 'return', 'try', 'while', 'with', 'yield']\n"
     ]
    }
   ],
   "source": [
    "import keyword\n",
    "print(keyword.kwlist)"
   ]
  },
  {
   "cell_type": "code",
   "execution_count": 5,
   "id": "93a72d4d",
   "metadata": {},
   "outputs": [
    {
     "name": "stdout",
     "output_type": "stream",
     "text": [
      "5.4\n",
      "6.4\n"
     ]
    }
   ],
   "source": [
    "promedio_notas=5.4\n",
    "promedio_Notas=6.4\n",
    "print(promedio_notas)\n",
    "print(promedio_Notas)"
   ]
  },
  {
   "cell_type": "code",
   "execution_count": 6,
   "id": "682671bc",
   "metadata": {},
   "outputs": [
    {
     "name": "stdout",
     "output_type": "stream",
     "text": [
      "666\n",
      "777\n"
     ]
    }
   ],
   "source": [
    "Mama=666\n",
    "mama=777\n",
    "print(Mama)\n",
    "print(mama)"
   ]
  },
  {
   "cell_type": "code",
   "execution_count": 12,
   "id": "0cad988d",
   "metadata": {},
   "outputs": [
    {
     "name": "stdout",
     "output_type": "stream",
     "text": [
      "[1, 2, 3, 4, 5]\n"
     ]
    },
    {
     "data": {
      "text/plain": [
       "list"
      ]
     },
     "execution_count": 12,
     "metadata": {},
     "output_type": "execute_result"
    }
   ],
   "source": [
    "números=[1,2,3,4,5]\n",
    "print(números)\n",
    "type(números)"
   ]
  },
  {
   "cell_type": "code",
   "execution_count": 14,
   "id": "2315f272",
   "metadata": {},
   "outputs": [
    {
     "name": "stdout",
     "output_type": "stream",
     "text": [
      "range(0, 5)\n"
     ]
    },
    {
     "data": {
      "text/plain": [
       "range"
      ]
     },
     "execution_count": 14,
     "metadata": {},
     "output_type": "execute_result"
    }
   ],
   "source": [
    "numeros=range(5)\n",
    "print(numeros)\n",
    "type(numeros)"
   ]
  },
  {
   "cell_type": "code",
   "execution_count": 15,
   "id": "37af6bb5",
   "metadata": {},
   "outputs": [
    {
     "name": "stdout",
     "output_type": "stream",
     "text": [
      "0\n",
      "1\n",
      "2\n",
      "3\n",
      "4\n"
     ]
    }
   ],
   "source": [
    "for i in numeros:\n",
    "    print(i)"
   ]
  },
  {
   "cell_type": "code",
   "execution_count": 16,
   "id": "7623caea",
   "metadata": {},
   "outputs": [
    {
     "name": "stdout",
     "output_type": "stream",
     "text": [
      "range(0, 50)\n"
     ]
    },
    {
     "data": {
      "text/plain": [
       "range"
      ]
     },
     "execution_count": 16,
     "metadata": {},
     "output_type": "execute_result"
    }
   ],
   "source": [
    "datos=range(50)\n",
    "print(datos)\n",
    "type(datos)"
   ]
  },
  {
   "cell_type": "code",
   "execution_count": 20,
   "id": "400371eb",
   "metadata": {},
   "outputs": [
    {
     "name": "stdout",
     "output_type": "stream",
     "text": [
      "0\n",
      "1\n",
      "2\n",
      "3\n",
      "4\n"
     ]
    }
   ],
   "source": [
    "for i in numeros:\n",
    "    print(i)\n"
   ]
  },
  {
   "cell_type": "code",
   "execution_count": 21,
   "id": "0cb121bd",
   "metadata": {},
   "outputs": [
    {
     "name": "stdout",
     "output_type": "stream",
     "text": [
      "{1, 2, 3, 4, 5, 7}\n"
     ]
    },
    {
     "data": {
      "text/plain": [
       "set"
      ]
     },
     "execution_count": 21,
     "metadata": {},
     "output_type": "execute_result"
    }
   ],
   "source": [
    "numeros={1,2,3,4,4,5,4,7,7,7}\n",
    "print(numeros)\n",
    "type(numeros)"
   ]
  },
  {
   "cell_type": "code",
   "execution_count": 27,
   "id": "a9d651de",
   "metadata": {},
   "outputs": [
    {
     "name": "stdout",
     "output_type": "stream",
     "text": [
      "True\n",
      "False\n"
     ]
    },
    {
     "data": {
      "text/plain": [
       "bool"
      ]
     },
     "execution_count": 27,
     "metadata": {},
     "output_type": "execute_result"
    }
   ],
   "source": [
    "alternativa_1= True\n",
    "alternativa_2= False\n",
    "print(alternativa_1)\n",
    "type(alternativa_1)\n",
    "print(alternativa_2)\n",
    "type(alternativa_2)"
   ]
  },
  {
   "cell_type": "code",
   "execution_count": 36,
   "id": "c49ea3af",
   "metadata": {},
   "outputs": [
    {
     "data": {
      "text/plain": [
       "'\\nhola amigos del youtube soy cristobal chandia en unos highlites.\\n'"
      ]
     },
     "execution_count": 36,
     "metadata": {},
     "output_type": "execute_result"
    }
   ],
   "source": [
    "\"\"\"\n",
    "hola amigos del youtube soy cristobal chandia en unos highlites.\n",
    "\"\"\""
   ]
  },
  {
   "cell_type": "code",
   "execution_count": 38,
   "id": "6d5105a6",
   "metadata": {},
   "outputs": [
    {
     "name": "stdout",
     "output_type": "stream",
     "text": [
      "linea1\n",
      "linea2\n"
     ]
    }
   ],
   "source": [
    "multi_linea=\"linea1\\nlinea2\"\n",
    "print(multi_linea)"
   ]
  },
  {
   "cell_type": "code",
   "execution_count": 40,
   "id": "8ee20480",
   "metadata": {},
   "outputs": [
    {
     "name": "stdout",
     "output_type": "stream",
     "text": [
      "hola\n"
     ]
    }
   ],
   "source": [
    "print(\"hola\")"
   ]
  },
  {
   "cell_type": "code",
   "execution_count": 41,
   "id": "ac7ac79a",
   "metadata": {},
   "outputs": [
    {
     "name": "stdout",
     "output_type": "stream",
     "text": [
      "peralta pick reyna\n",
      " malisimo con reyna\n"
     ]
    }
   ],
   "source": [
    "print(\"peralta pick reyna\\n malisimo con reyna\")"
   ]
  },
  {
   "cell_type": "code",
   "execution_count": 42,
   "id": "c63dc4f1",
   "metadata": {},
   "outputs": [],
   "source": [
    "a=55"
   ]
  },
  {
   "cell_type": "code",
   "execution_count": 43,
   "id": "c20ed4d9",
   "metadata": {},
   "outputs": [],
   "source": [
    "a+=77"
   ]
  },
  {
   "cell_type": "code",
   "execution_count": 44,
   "id": "21421341",
   "metadata": {},
   "outputs": [
    {
     "data": {
      "text/plain": [
       "0"
      ]
     },
     "execution_count": 44,
     "metadata": {},
     "output_type": "execute_result"
    }
   ],
   "source": [
    "a-a"
   ]
  },
  {
   "cell_type": "code",
   "execution_count": 48,
   "id": "0365aa49",
   "metadata": {},
   "outputs": [
    {
     "name": "stdout",
     "output_type": "stream",
     "text": [
      "coloca cualquier número:8888\n",
      "este numero es par\n"
     ]
    }
   ],
   "source": [
    "x=int(input(\"coloca cualquier número:\"))\n",
    "if x%2==0:\n",
    "      print(\"este numero es par\")\n",
    "else:\n",
    "      print(\"este número es impar\")"
   ]
  },
  {
   "cell_type": "code",
   "execution_count": null,
   "id": "f35091e1",
   "metadata": {},
   "outputs": [],
   "source": []
  }
 ],
 "metadata": {
  "kernelspec": {
   "display_name": "Python 3 (ipykernel)",
   "language": "python",
   "name": "python3"
  },
  "language_info": {
   "codemirror_mode": {
    "name": "ipython",
    "version": 3
   },
   "file_extension": ".py",
   "mimetype": "text/x-python",
   "name": "python",
   "nbconvert_exporter": "python",
   "pygments_lexer": "ipython3",
   "version": "3.9.13"
  }
 },
 "nbformat": 4,
 "nbformat_minor": 5
}
